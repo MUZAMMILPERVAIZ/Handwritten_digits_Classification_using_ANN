{
 "cells": [
  {
   "cell_type": "code",
   "execution_count": 1,
   "metadata": {
    "collapsed": true
   },
   "outputs": [],
   "source": [
    "import tensorflow as tf\n",
    "from tensorflow import keras\n",
    "import matplotlib.pyplot as plt\n",
    "import numpy as np"
   ]
  },
  {
   "cell_type": "code",
   "execution_count": 2,
   "outputs": [],
   "source": [
    "(X_train,Y_train),(X_test,Y_test)=keras.datasets.mnist.load_data()"
   ],
   "metadata": {
    "collapsed": false,
    "pycharm": {
     "name": "#%%\n"
    }
   }
  },
  {
   "cell_type": "code",
   "execution_count": 3,
   "outputs": [
    {
     "name": "stdout",
     "output_type": "stream",
     "text": [
      "Train images shape:  (60000, 28, 28)\n",
      "Train labels shape:  (60000,)\n",
      "Test images shape:  (10000, 28, 28)\n",
      "Test labels shape:  (10000,)\n"
     ]
    }
   ],
   "source": [
    "print(\"Train images shape: \", X_train.shape)\n",
    "print(\"Train labels shape: \", Y_train.shape)\n",
    "\n",
    "print(\"Test images shape: \", X_test.shape)\n",
    "print(\"Test labels shape: \", Y_test.shape)"
   ],
   "metadata": {
    "collapsed": false,
    "pycharm": {
     "name": "#%%\n"
    }
   }
  },
  {
   "cell_type": "markdown",
   "source": [
    "#Visualising some sample of  X_train"
   ],
   "metadata": {
    "collapsed": false,
    "pycharm": {
     "name": "#%% md\n"
    }
   }
  },
  {
   "cell_type": "code",
   "execution_count": 21,
   "outputs": [
    {
     "data": {
      "text/plain": "<Figure size 576x576 with 16 Axes>",
      "image/png": "[encoded data removed]"
     },
     "metadata": {},
     "output_type": "display_data"
    }
   ],
   "source": [
    "plt.figure(figsize=(8,8))\n",
    "random_num = np.random.randint(0, 13439, size = 16)\n",
    "for i in range(16):\n",
    "    plt.subplot(4,4,i+1)\n",
    "    plt.xticks([])\n",
    "    plt.yticks([])\n",
    "    plt.imshow(X_train[random_num[i]].reshape(28,28).T,\"gray\")\n",
    "    #plt.xlabel(int(Y_train[random_num[i]][0])+1)"
   ],
   "metadata": {
    "collapsed": false,
    "pycharm": {
     "name": "#%%\n"
    }
   }
  },
  {
   "cell_type": "markdown",
   "source": [
    "<h1>Scailing dataset</h1>"
   ],
   "metadata": {
    "collapsed": false,
    "pycharm": {
     "name": "#%% md\n"
    }
   }
  },
  {
   "cell_type": "code",
   "execution_count": 5,
   "outputs": [],
   "source": [
    "X_train= X_train/255\n",
    "X_test=X_test/255"
   ],
   "metadata": {
    "collapsed": false,
    "pycharm": {
     "name": "#%%\n"
    }
   }
  },
  {
   "cell_type": "markdown",
   "source": [
    "<h1>Artificial Neural Network</h1>"
   ],
   "metadata": {
    "collapsed": false
   }
  },
  {
   "cell_type": "code",
   "execution_count": 6,
   "outputs": [
    {
     "name": "stderr",
     "output_type": "stream",
     "text": [
      "2022-06-10 16:43:36.635821: E tensorflow/stream_executor/cuda/cuda_driver.cc:271] failed call to cuInit: CUDA_ERROR_NO_DEVICE: no CUDA-capable device is detected\n",
      "2022-06-10 16:43:36.635876: I tensorflow/stream_executor/cuda/cuda_diagnostics.cc:156] kernel driver does not appear to be running on this host (muzammil-Latitude-7480): /proc/driver/nvidia/version does not exist\n",
      "2022-06-10 16:43:36.636825: I tensorflow/core/platform/cpu_feature_guard.cc:151] This TensorFlow binary is optimized with oneAPI Deep Neural Network Library (oneDNN) to use the following CPU instructions in performance-critical operations:  AVX2 FMA\n",
      "To enable them in other operations, rebuild TensorFlow with the appropriate compiler flags.\n"
     ]
    },
    {
     "name": "stdout",
     "output_type": "stream",
     "text": [
      "Epoch 1/30\n",
      "1875/1875 [==============================] - 5s 3ms/step - loss: 0.3544 - accuracy: 0.9089\n",
      "Epoch 2/30\n",
      "1875/1875 [==============================] - 4s 2ms/step - loss: 0.1314 - accuracy: 0.9610\n",
      "Epoch 3/30\n",
      "1875/1875 [==============================] - 4s 2ms/step - loss: 0.0893 - accuracy: 0.9730\n",
      "Epoch 4/30\n",
      "1875/1875 [==============================] - 3s 2ms/step - loss: 0.0649 - accuracy: 0.9798\n",
      "Epoch 5/30\n",
      "1875/1875 [==============================] - 3s 2ms/step - loss: 0.0514 - accuracy: 0.9845\n",
      "Epoch 6/30\n",
      "1875/1875 [==============================] - 4s 2ms/step - loss: 0.0389 - accuracy: 0.9887\n",
      "Epoch 7/30\n",
      "1875/1875 [==============================] - 4s 2ms/step - loss: 0.0332 - accuracy: 0.9898\n",
      "Epoch 8/30\n",
      "1875/1875 [==============================] - 4s 2ms/step - loss: 0.0256 - accuracy: 0.9930\n",
      "Epoch 9/30\n",
      "1875/1875 [==============================] - 4s 2ms/step - loss: 0.0216 - accuracy: 0.9937\n",
      "Epoch 10/30\n",
      "1875/1875 [==============================] - 4s 2ms/step - loss: 0.0184 - accuracy: 0.9947\n",
      "Epoch 11/30\n",
      "1875/1875 [==============================] - 4s 2ms/step - loss: 0.0152 - accuracy: 0.9956\n",
      "Epoch 12/30\n",
      "1875/1875 [==============================] - 4s 2ms/step - loss: 0.0138 - accuracy: 0.9961\n",
      "Epoch 13/30\n",
      "1875/1875 [==============================] - 4s 2ms/step - loss: 0.0099 - accuracy: 0.9974\n",
      "Epoch 14/30\n",
      "1875/1875 [==============================] - 4s 2ms/step - loss: 0.0108 - accuracy: 0.9966\n",
      "Epoch 15/30\n",
      "1875/1875 [==============================] - 4s 2ms/step - loss: 0.0086 - accuracy: 0.9975\n",
      "Epoch 16/30\n",
      "1875/1875 [==============================] - 4s 2ms/step - loss: 0.0074 - accuracy: 0.9978\n",
      "Epoch 17/30\n",
      "1875/1875 [==============================] - 4s 2ms/step - loss: 0.0070 - accuracy: 0.9979\n",
      "Epoch 18/30\n",
      "1875/1875 [==============================] - 3s 2ms/step - loss: 0.0063 - accuracy: 0.9983\n",
      "Epoch 19/30\n",
      "1875/1875 [==============================] - 4s 2ms/step - loss: 0.0067 - accuracy: 0.9979\n",
      "Epoch 20/30\n",
      "1875/1875 [==============================] - 4s 2ms/step - loss: 0.0049 - accuracy: 0.9988\n",
      "Epoch 21/30\n",
      "1875/1875 [==============================] - 3s 2ms/step - loss: 0.0052 - accuracy: 0.9986\n",
      "Epoch 22/30\n",
      "1875/1875 [==============================] - 3s 2ms/step - loss: 0.0059 - accuracy: 0.9981\n",
      "Epoch 23/30\n",
      "1875/1875 [==============================] - 4s 2ms/step - loss: 0.0051 - accuracy: 0.9984\n",
      "Epoch 24/30\n",
      "1875/1875 [==============================] - 3s 2ms/step - loss: 0.0033 - accuracy: 0.9991\n",
      "Epoch 25/30\n",
      "1875/1875 [==============================] - 4s 2ms/step - loss: 0.0038 - accuracy: 0.9991\n",
      "Epoch 26/30\n",
      "1875/1875 [==============================] - 4s 2ms/step - loss: 0.0049 - accuracy: 0.9984\n",
      "Epoch 27/30\n",
      "1875/1875 [==============================] - 4s 2ms/step - loss: 0.0042 - accuracy: 0.9987\n",
      "Epoch 28/30\n",
      "1875/1875 [==============================] - 3s 2ms/step - loss: 0.0044 - accuracy: 0.9989\n",
      "Epoch 29/30\n",
      "1875/1875 [==============================] - 3s 2ms/step - loss: 0.0033 - accuracy: 0.9991\n",
      "Epoch 30/30\n",
      "1875/1875 [==============================] - 3s 2ms/step - loss: 0.0050 - accuracy: 0.9986\n"
     ]
    },
    {
     "data": {
      "text/plain": "<keras.callbacks.History at 0x7ff71dd49990>"
     },
     "execution_count": 6,
     "metadata": {},
     "output_type": "execute_result"
    }
   ],
   "source": [
    "model = keras.Sequential([\n",
    "    keras.layers.Flatten(input_shape=(28,28)),\n",
    "    keras.layers.Dense(100, activation=\"relu\"),\n",
    "    keras.layers.Dense(50, activation=\"sigmoid\"),\n",
    "    keras.layers.Dense(10, activation=\"softmax\")\n",
    "])\n",
    "\n",
    "model.compile(\n",
    "    optimizer='adam',\n",
    "    loss='sparse_categorical_crossentropy',\n",
    "    metrics=['accuracy']\n",
    ")\n",
    "model.fit(X_train,Y_train,epochs=30)"
   ],
   "metadata": {
    "collapsed": false,
    "pycharm": {
     "name": "#%%\n"
    }
   }
  },
  {
   "cell_type": "markdown",
   "source": [
    "<h1>Accuracy</h1>"
   ],
   "metadata": {
    "collapsed": false
   }
  },
  {
   "cell_type": "code",
   "execution_count": 7,
   "outputs": [
    {
     "name": "stdout",
     "output_type": "stream",
     "text": [
      "313/313 [==============================] - 1s 2ms/step - loss: 0.0983 - accuracy: 0.9795\n"
     ]
    },
    {
     "data": {
      "text/plain": "[0.09829702228307724, 0.9794999957084656]"
     },
     "execution_count": 7,
     "metadata": {},
     "output_type": "execute_result"
    }
   ],
   "source": [
    "model.evaluate(X_test,Y_test)"
   ],
   "metadata": {
    "collapsed": false,
    "pycharm": {
     "name": "#%%\n"
    }
   }
  },
  {
   "cell_type": "code",
   "execution_count": 8,
   "outputs": [
    {
     "data": {
      "text/plain": "array([[3.3736198e-11, 1.6510116e-08, 9.4777031e-10, ..., 9.9999988e-01,\n        1.3927104e-10, 2.7251280e-08],\n       [7.9932583e-10, 2.3019255e-07, 9.9999976e-01, ..., 9.4107100e-10,\n        5.1812121e-10, 7.4073878e-14],\n       [2.6526148e-10, 9.9999928e-01, 1.7606725e-08, ..., 3.1752444e-07,\n        9.0238245e-08, 1.1644643e-11],\n       ...,\n       [5.5057266e-13, 4.4437147e-09, 2.6607688e-11, ..., 6.0176117e-09,\n        3.6199208e-10, 1.8413084e-06],\n       [1.1428611e-12, 9.4743501e-12, 1.5698599e-12, ..., 2.6669210e-11,\n        9.8810467e-08, 4.5442691e-10],\n       [4.7138826e-08, 1.3040110e-09, 4.5587609e-09, ..., 8.8840746e-13,\n        1.0714458e-09, 9.8221769e-12]], dtype=float32)"
     },
     "execution_count": 8,
     "metadata": {},
     "output_type": "execute_result"
    }
   ],
   "source": [
    "Y_predicted= model.predict(X_test)\n",
    "Y_predicted"
   ],
   "metadata": {
    "collapsed": false,
    "pycharm": {
     "name": "#%%\n"
    }
   }
  },
  {
   "cell_type": "markdown",
   "source": [
    "<h1>Confusion Matrix</h1>"
   ],
   "metadata": {
    "collapsed": false
   }
  },
  {
   "cell_type": "code",
   "execution_count": 9,
   "outputs": [
    {
     "data": {
      "text/plain": "[7,\n 2,\n 1,\n 0,\n 4,\n 1,\n 4,\n 9,\n 5,\n 9,\n 0,\n 6,\n 9,\n 0,\n 1,\n 5,\n 9,\n 7,\n 5,\n 4,\n 9,\n 6,\n 6,\n 5,\n 4,\n 0,\n 7,\n 4,\n 0,\n 1,\n 3,\n 1,\n 3,\n 4,\n 7,\n 2,\n 7,\n 1,\n 2,\n 1,\n 1,\n 7,\n 4,\n 2,\n 3,\n 5,\n 1,\n 2,\n 4,\n 4,\n 6,\n 3,\n 5,\n 5,\n 6,\n 0,\n 4,\n 1,\n 9,\n 5,\n 7,\n 8,\n 9,\n 3,\n 7,\n 4,\n 6,\n 4,\n 3,\n 0,\n 7,\n 0,\n 2,\n 9,\n 1,\n 7,\n 3,\n 2,\n 9,\n 7,\n 7,\n 6,\n 2,\n 7,\n 8,\n 4,\n 7,\n 3,\n 6,\n 1,\n 3,\n 6,\n 9,\n 3,\n 1,\n 4,\n 1,\n 7,\n 6,\n 9,\n 6,\n 0,\n 5,\n 4,\n 9,\n 9,\n 2,\n 1,\n 9,\n 4,\n 8,\n 7,\n 3,\n 9,\n 7,\n 4,\n 4,\n 4,\n 9,\n 2,\n 5,\n 4,\n 7,\n 6,\n 7,\n 9,\n 0,\n 5,\n 8,\n 5,\n 6,\n 6,\n 5,\n 7,\n 8,\n 1,\n 0,\n 1,\n 6,\n 4,\n 6,\n 7,\n 3,\n 1,\n 7,\n 1,\n 8,\n 2,\n 0,\n 2,\n 9,\n 9,\n 5,\n 5,\n 1,\n 5,\n 6,\n 0,\n 3,\n 4,\n 4,\n 6,\n 5,\n 4,\n 6,\n 5,\n 4,\n 5,\n 1,\n 4,\n 4,\n 7,\n 2,\n 3,\n 2,\n 7,\n 1,\n 8,\n 1,\n 8,\n 1,\n 8,\n 5,\n 0,\n 8,\n 9,\n 2,\n 5,\n 0,\n 1,\n 1,\n 1,\n 0,\n 9,\n 0,\n 3,\n 1,\n 6,\n 4,\n 2,\n 3,\n 6,\n 1,\n 1,\n 1,\n 3,\n 9,\n 5,\n 2,\n 9,\n 4,\n 5,\n 9,\n 3,\n 9,\n 0,\n 3,\n 5,\n 5,\n 5,\n 7,\n 2,\n 2,\n 7,\n 1,\n 2,\n 8,\n 4,\n 1,\n 7,\n 3,\n 3,\n 8,\n 8,\n 7,\n 9,\n 2,\n 2,\n 4,\n 1,\n 5,\n 9,\n 8,\n 7,\n 2,\n 3,\n 0,\n 6,\n 4,\n 2,\n 4,\n 1,\n 9,\n 5,\n 7,\n 7,\n 2,\n 8,\n 2,\n 6,\n 8,\n 5,\n 7,\n 7,\n 9,\n 1,\n 8,\n 1,\n 8,\n 0,\n 3,\n 0,\n 1,\n 9,\n 9,\n 4,\n 1,\n 8,\n 2,\n 1,\n 2,\n 9,\n 7,\n 5,\n 9,\n 2,\n 6,\n 4,\n 1,\n 5,\n 8,\n 2,\n 9,\n 2,\n 0,\n 4,\n 0,\n 0,\n 2,\n 8,\n 4,\n 7,\n 1,\n 2,\n 4,\n 0,\n 2,\n 7,\n 4,\n 3,\n 3,\n 0,\n 0,\n 3,\n 1,\n 9,\n 6,\n 5,\n 2,\n 5,\n 9,\n 7,\n 9,\n 3,\n 0,\n 4,\n 2,\n 0,\n 7,\n 1,\n 1,\n 2,\n 1,\n 5,\n 3,\n 3,\n 9,\n 7,\n 8,\n 6,\n 3,\n 6,\n 1,\n 3,\n 8,\n 1,\n 0,\n 5,\n 1,\n 3,\n 1,\n 5,\n 5,\n 6,\n 1,\n 8,\n 5,\n 1,\n 1,\n 9,\n 4,\n 6,\n 2,\n 2,\n 5,\n 0,\n 6,\n 5,\n 6,\n 3,\n 7,\n 2,\n 0,\n 8,\n 8,\n 5,\n 4,\n 1,\n 1,\n 4,\n 0,\n 3,\n 3,\n 7,\n 6,\n 1,\n 6,\n 2,\n 1,\n 9,\n 2,\n 8,\n 6,\n 1,\n 9,\n 5,\n 2,\n 5,\n 4,\n 4,\n 2,\n 8,\n 3,\n 8,\n 2,\n 4,\n 5,\n 0,\n 3,\n 1,\n 7,\n 7,\n 5,\n 7,\n 9,\n 7,\n 1,\n 9,\n 2,\n 1,\n 4,\n 2,\n 9,\n 2,\n 0,\n 4,\n 9,\n 1,\n 4,\n 8,\n 1,\n 8,\n 4,\n 5,\n 9,\n 8,\n 8,\n 3,\n 7,\n 6,\n 0,\n 0,\n 3,\n 0,\n 2,\n 0,\n 6,\n 4,\n 9,\n 3,\n 3,\n 3,\n 2,\n 3,\n 9,\n 1,\n 2,\n 6,\n 8,\n 0,\n 5,\n 6,\n 6,\n 6,\n 3,\n 8,\n 8,\n 2,\n 7,\n 5,\n 8,\n 9,\n 6,\n 1,\n 8,\n 4,\n 1,\n 2,\n 5,\n 9,\n 1,\n 9,\n 7,\n 5,\n 4,\n 0,\n 8,\n 9,\n 9,\n 1,\n 0,\n 5,\n 2,\n 3,\n 7,\n 0,\n 9,\n 4,\n 0,\n 6,\n 3,\n 9,\n 5,\n 2,\n 1,\n 3,\n 1,\n 3,\n 6,\n 5,\n 7,\n 4,\n 2,\n 2,\n 6,\n 3,\n 2,\n 6,\n 5,\n 4,\n 8,\n 9,\n 7,\n 1,\n 3,\n 0,\n 3,\n 8,\n 3,\n 1,\n 9,\n 3,\n 4,\n 4,\n 6,\n 4,\n 2,\n 1,\n 8,\n 2,\n 5,\n 4,\n 8,\n 8,\n 4,\n 0,\n 0,\n 2,\n 3,\n 2,\n 7,\n 7,\n 0,\n 8,\n 7,\n 4,\n 4,\n 7,\n 9,\n 6,\n 9,\n 0,\n 9,\n 8,\n 0,\n 4,\n 6,\n 0,\n 6,\n 3,\n 5,\n 4,\n 8,\n 3,\n 3,\n 9,\n 3,\n 3,\n 3,\n 7,\n 8,\n 0,\n 2,\n 2,\n 1,\n 7,\n 0,\n 6,\n 5,\n 4,\n 3,\n 8,\n 0,\n 9,\n 6,\n 3,\n 8,\n 0,\n 9,\n 9,\n 6,\n 8,\n 6,\n 8,\n 5,\n 7,\n 8,\n 6,\n 0,\n 2,\n 4,\n 0,\n 2,\n 2,\n 3,\n 1,\n 9,\n 7,\n 5,\n 8,\n 0,\n 8,\n 4,\n 6,\n 2,\n 6,\n 7,\n 9,\n 3,\n 2,\n 9,\n 8,\n 2,\n 2,\n 9,\n 2,\n 7,\n 3,\n 5,\n 9,\n 1,\n 8,\n 0,\n 2,\n 0,\n 5,\n 2,\n 1,\n 3,\n 7,\n 6,\n 7,\n 1,\n 2,\n 5,\n 8,\n 0,\n 3,\n 7,\n 1,\n 4,\n 0,\n 9,\n 1,\n 8,\n 6,\n 7,\n 7,\n 4,\n 3,\n 4,\n 9,\n 1,\n 9,\n 5,\n 1,\n 7,\n 3,\n 9,\n 7,\n 6,\n 9,\n 1,\n 3,\n 7,\n 8,\n 3,\n 3,\n 6,\n 7,\n 2,\n 8,\n 5,\n 8,\n 5,\n 1,\n 1,\n 4,\n 4,\n 3,\n 1,\n 0,\n 7,\n 7,\n 0,\n 7,\n 9,\n 4,\n 4,\n 8,\n 5,\n 5,\n 4,\n 0,\n 8,\n 2,\n 1,\n 0,\n 8,\n 4,\n 8,\n 0,\n 4,\n 0,\n 6,\n 1,\n 7,\n 3,\n 2,\n 6,\n 7,\n 2,\n 6,\n 9,\n 3,\n 1,\n 4,\n 6,\n 2,\n 5,\n 9,\n 2,\n 0,\n 6,\n 2,\n 1,\n 7,\n 3,\n 4,\n 1,\n 0,\n 5,\n 4,\n 3,\n 1,\n 1,\n 7,\n 4,\n 9,\n 9,\n 4,\n 8,\n 4,\n 0,\n 2,\n 4,\n 5,\n 1,\n 1,\n 6,\n 4,\n 7,\n 1,\n 9,\n 4,\n 2,\n 4,\n 1,\n 5,\n 5,\n 3,\n 8,\n 3,\n 1,\n 4,\n 5,\n 6,\n 8,\n 9,\n 4,\n 1,\n 5,\n 3,\n 8,\n 0,\n 3,\n 2,\n 5,\n 1,\n 2,\n 8,\n 3,\n 4,\n 4,\n 0,\n 8,\n 8,\n 3,\n 3,\n 1,\n 7,\n 3,\n 5,\n 9,\n 6,\n 3,\n 2,\n 6,\n 1,\n 3,\n 6,\n 0,\n 7,\n 2,\n 1,\n 7,\n 1,\n 4,\n 2,\n 4,\n 2,\n 1,\n 7,\n 9,\n 6,\n 1,\n 1,\n 2,\n 4,\n 8,\n 1,\n 7,\n 7,\n 4,\n 8,\n 0,\n 7,\n 3,\n 1,\n 3,\n 1,\n 0,\n 7,\n 7,\n 0,\n 3,\n 5,\n 5,\n 2,\n 7,\n 6,\n 6,\n 9,\n 2,\n 8,\n 3,\n 5,\n 2,\n 2,\n 5,\n 6,\n 0,\n 8,\n 2,\n 9,\n 2,\n 8,\n 6,\n 8,\n 8,\n 7,\n 4,\n 9,\n 3,\n 0,\n 6,\n 6,\n 3,\n 2,\n 1,\n 3,\n 2,\n 2,\n 9,\n 3,\n 0,\n 0,\n 5,\n 7,\n 8,\n 3,\n 4,\n 4,\n 6,\n 0,\n 2,\n 9,\n 1,\n 4,\n 7,\n 4,\n 7,\n 3,\n 9,\n 8,\n 8,\n 4,\n 7,\n 1,\n 2,\n 1,\n 2,\n 2,\n 3,\n 2,\n 3,\n 2,\n 3,\n 9,\n 1,\n 7,\n 4,\n 0,\n 3,\n 5,\n 5,\n 8,\n 6,\n 3,\n 2,\n 6,\n 7,\n 6,\n 6,\n 3,\n 2,\n 7,\n 9,\n 1,\n 1,\n 7,\n 4,\n 6,\n 4,\n 9,\n 5,\n 2,\n 3,\n 3,\n 4,\n 7,\n 8,\n 9,\n 1,\n 1,\n 0,\n 9,\n 1,\n 4,\n 4,\n 5,\n 4,\n 0,\n 6,\n 2,\n 2,\n 3,\n 1,\n 5,\n 1,\n 2,\n 0,\n 3,\n 8,\n 1,\n 2,\n 6,\n 7,\n 1,\n 6,\n 2,\n 3,\n 9,\n 0,\n 1,\n 2,\n 2,\n 0,\n 8,\n 9,\n ...]"
     },
     "execution_count": 9,
     "metadata": {},
     "output_type": "execute_result"
    }
   ],
   "source": [
    "y_predicted_labels=[np.argmax(i) for i in Y_predicted]\n",
    "y_predicted_labels"
   ],
   "metadata": {
    "collapsed": false,
    "pycharm": {
     "name": "#%%\n"
    }
   }
  },
  {
   "cell_type": "code",
   "execution_count": 10,
   "outputs": [
    {
     "data": {
      "text/plain": "array([[ 969,    0,    0,    0,    0,    4,    1,    1,    2,    3],\n       [   0, 1123,    3,    1,    0,    1,    2,    1,    4,    0],\n       [   4,    3, 1007,    2,    3,    0,    2,    6,    5,    0],\n       [   0,    0,    2,  992,    0,    8,    0,    4,    1,    3],\n       [   1,    0,    2,    0,  962,    0,    4,    1,    2,   10],\n       [   1,    0,    0,    9,    2,  873,    3,    0,    3,    1],\n       [   4,    2,    1,    1,    7,    5,  937,    0,    1,    0],\n       [   0,    6,    7,    2,    0,    1,    0, 1003,    3,    6],\n       [   6,    0,    3,    7,    3,    3,    3,    2,  941,    6],\n       [   0,    2,    0,    0,    7,    7,    0,    2,    3,  988]])"
     },
     "execution_count": 10,
     "metadata": {},
     "output_type": "execute_result"
    }
   ],
   "source": [
    "from sklearn.metrics import confusion_matrix\n",
    "cm= confusion_matrix(Y_test,y_predicted_labels)\n",
    "cm"
   ],
   "metadata": {
    "collapsed": false,
    "pycharm": {
     "name": "#%%\n"
    }
   }
  },
  {
   "cell_type": "code",
   "execution_count": 11,
   "outputs": [
    {
     "data": {
      "text/plain": "<Figure size 1080x576 with 2 Axes>",
      "image/png": "[encoded data removed]"
     },
     "metadata": {
      "needs_background": "light"
     },
     "output_type": "display_data"
    }
   ],
   "source": [
    "import seaborn as sn\n",
    "plt.figure(figsize=(15,8))\n",
    "sn.heatmap(cm, annot=True, fmt='d')\n",
    "plt.xlabel(\"Predicted\")\n",
    "plt.ylabel(\"true\")\n",
    "plt.show()"
   ],
   "metadata": {
    "collapsed": false,
    "pycharm": {
     "name": "#%%\n"
    }
   }
  },
  {
   "cell_type": "code",
   "execution_count": 12,
   "outputs": [
    {
     "data": {
      "text/plain": "60000"
     },
     "execution_count": 12,
     "metadata": {},
     "output_type": "execute_result"
    }
   ],
   "source": [
    "len(X_train)"
   ],
   "metadata": {
    "collapsed": false,
    "pycharm": {
     "name": "#%%\n"
    }
   }
  },
  {
   "cell_type": "code",
   "execution_count": 13,
   "outputs": [
    {
     "data": {
      "text/plain": "10000"
     },
     "execution_count": 13,
     "metadata": {},
     "output_type": "execute_result"
    }
   ],
   "source": [
    "len(X_test)"
   ],
   "metadata": {
    "collapsed": false,
    "pycharm": {
     "name": "#%%\n"
    }
   }
  },
  {
   "cell_type": "code",
   "execution_count": 13,
   "outputs": [],
   "source": [],
   "metadata": {
    "collapsed": false,
    "pycharm": {
     "name": "#%%\n"
    }
   }
  },
  {
   "cell_type": "markdown",
   "source": [
    "<h1>Some Predictions</h1>"
   ],
   "metadata": {
    "collapsed": false
   }
  },
  {
   "cell_type": "code",
   "execution_count": 17,
   "outputs": [
    {
     "data": {
      "text/plain": "<matplotlib.image.AxesImage at 0x7ff71ba13eb0>"
     },
     "execution_count": 17,
     "metadata": {},
     "output_type": "execute_result"
    },
    {
     "data": {
      "text/plain": "<Figure size 288x288 with 1 Axes>",
      "image/png": "[encoded data removed]"
     },
     "metadata": {
      "needs_background": "light"
     },
     "output_type": "display_data"
    }
   ],
   "source": [
    "plt.matshow(X_test[0])"
   ],
   "metadata": {
    "collapsed": false,
    "pycharm": {
     "name": "#%%\n"
    }
   }
  },
  {
   "cell_type": "code",
   "execution_count": 18,
   "outputs": [
    {
     "data": {
      "text/plain": "7"
     },
     "execution_count": 18,
     "metadata": {},
     "output_type": "execute_result"
    }
   ],
   "source": [
    "y_predicted_labels[0]"
   ],
   "metadata": {
    "collapsed": false,
    "pycharm": {
     "name": "#%%\n"
    }
   }
  },
  {
   "cell_type": "code",
   "execution_count": 19,
   "outputs": [
    {
     "data": {
      "text/plain": "<matplotlib.image.AxesImage at 0x7ff720f87040>"
     },
     "execution_count": 19,
     "metadata": {},
     "output_type": "execute_result"
    },
    {
     "data": {
      "text/plain": "<Figure size 288x288 with 1 Axes>",
      "image/png": "[encoded data removed]"
     },
     "metadata": {
      "needs_background": "light"
     },
     "output_type": "display_data"
    }
   ],
   "source": [
    "plt.matshow(X_test[99])"
   ],
   "metadata": {
    "collapsed": false,
    "pycharm": {
     "name": "#%%\n"
    }
   }
  },
  {
   "cell_type": "code",
   "execution_count": 20,
   "outputs": [
    {
     "data": {
      "text/plain": "9"
     },
     "execution_count": 20,
     "metadata": {},
     "output_type": "execute_result"
    }
   ],
   "source": [
    "y_predicted_labels[99]"
   ],
   "metadata": {
    "collapsed": false,
    "pycharm": {
     "name": "#%%\n"
    }
   }
  },
  {
   "cell_type": "code",
   "execution_count": null,
   "outputs": [],
   "source": [],
   "metadata": {
    "collapsed": false,
    "pycharm": {
     "name": "#%%\n"
    }
   }
  }
 ],
 "metadata": {
  "kernelspec": {
   "display_name": "Python 3",
   "language": "python",
   "name": "python3"
  },
  "language_info": {
   "codemirror_mode": {
    "name": "ipython",
    "version": 2
   },
   "file_extension": ".py",
   "mimetype": "text/x-python",
   "name": "python",
   "nbconvert_exporter": "python",
   "pygments_lexer": "ipython2",
   "version": "2.7.6"
  }
 },
 "nbformat": 4,
 "nbformat_minor": 0
}